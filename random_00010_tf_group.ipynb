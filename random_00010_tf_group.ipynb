{
 "cells": [
  {
   "cell_type": "code",
   "execution_count": 1,
   "metadata": {
    "collapsed": false
   },
   "outputs": [],
   "source": [
    "import tensorflow as tf"
   ]
  },
  {
   "cell_type": "code",
   "execution_count": 2,
   "metadata": {
    "collapsed": true
   },
   "outputs": [],
   "source": [
    "import numpy as np"
   ]
  },
  {
   "cell_type": "code",
   "execution_count": 3,
   "metadata": {
    "collapsed": true
   },
   "outputs": [],
   "source": [
    "with tf.name_scope(\"scope1\"):\n",
    "    x = tf.placeholder(name=\"x\", shape=[1], dtype=tf.int32)\n",
    "    y = tf.placeholder(name=\"y\", shape=[1], dtype=tf.int32)"
   ]
  },
  {
   "cell_type": "code",
   "execution_count": 4,
   "metadata": {
    "collapsed": false
   },
   "outputs": [],
   "source": [
    "with tf.variable_scope(\"ops\"):\n",
    "    counter = tf.get_variable(name=\"counter\", shape=[1], dtype=tf.int32, initializer=tf.constant_initializer(0))\n",
    "    inc_counter_by_x_op = tf.assign(counter, counter + x)\n",
    "    \n",
    "    '''\n",
    "    inc_counter_by_y_op = tf.assign(counter, counter + y)\n",
    "    '''\n",
    "    \n",
    "    with tf.control_dependencies([inc_counter_by_x_op]):\n",
    "        inc_counter_by_y_op = tf.assign(counter, counter + y)\n"
   ]
  },
  {
   "cell_type": "code",
   "execution_count": 5,
   "metadata": {
    "collapsed": false
   },
   "outputs": [],
   "source": [
    "# https://www.tensorflow.org/api_docs/python/tf/group\n",
    "\n",
    "with tf.name_scope(\"group\"):\n",
    "    grouped = tf.group(inc_counter_by_x_op, inc_counter_by_y_op)"
   ]
  },
  {
   "cell_type": "markdown",
   "metadata": {},
   "source": [
    "<font color=\"red\"> Note non-deterministic behavior </font> without control dependency - uncomment the part around control dependency above and test it"
   ]
  },
  {
   "cell_type": "code",
   "execution_count": 6,
   "metadata": {
    "collapsed": false
   },
   "outputs": [
    {
     "name": "stdout",
     "output_type": "stream",
     "text": [
      "trial  0\n",
      "[0]\n",
      "[3]\n",
      "[9]\n",
      "[18]\n",
      "[30]\n",
      "trial  1\n",
      "[0]\n",
      "[3]\n",
      "[9]\n",
      "[18]\n",
      "[30]\n",
      "trial  2\n",
      "[0]\n",
      "[3]\n",
      "[9]\n",
      "[18]\n",
      "[30]\n",
      "trial  3\n",
      "[0]\n",
      "[3]\n",
      "[9]\n",
      "[18]\n",
      "[30]\n",
      "trial  4\n",
      "[0]\n",
      "[3]\n",
      "[9]\n",
      "[18]\n",
      "[30]\n"
     ]
    }
   ],
   "source": [
    "\n",
    "\n",
    "for trial in range(5):\n",
    "    print(\"trial \", trial)\n",
    "    with tf.Session() as sess:\n",
    "        sess.run(tf.global_variables_initializer())\n",
    "        for step in range(5):\n",
    "            sess.run(grouped, feed_dict={x: [step], y: [2*step]})\n",
    "            print(sess.run(counter))\n"
   ]
  },
  {
   "cell_type": "code",
   "execution_count": null,
   "metadata": {
    "collapsed": true
   },
   "outputs": [],
   "source": []
  }
 ],
 "metadata": {
  "anaconda-cloud": {},
  "kernelspec": {
   "display_name": "Python [conda env:py3_6_tf1_1]",
   "language": "python",
   "name": "conda-env-py3_6_tf1_1-py"
  },
  "language_info": {
   "codemirror_mode": {
    "name": "ipython",
    "version": 3
   },
   "file_extension": ".py",
   "mimetype": "text/x-python",
   "name": "python",
   "nbconvert_exporter": "python",
   "pygments_lexer": "ipython3",
   "version": "3.6.1"
  }
 },
 "nbformat": 4,
 "nbformat_minor": 1
}
