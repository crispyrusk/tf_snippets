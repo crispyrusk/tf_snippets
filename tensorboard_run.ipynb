{
 "cells": [
  {
   "cell_type": "code",
   "execution_count": 1,
   "metadata": {},
   "outputs": [
    {
     "name": "stdout",
     "output_type": "stream",
     "text": [
      "/home/skyrus/work/sandbox/tf_snippets\r\n"
     ]
    }
   ],
   "source": [
    "!pwd"
   ]
  },
  {
   "cell_type": "code",
   "execution_count": 2,
   "metadata": {},
   "outputs": [
    {
     "name": "stdout",
     "output_type": "stream",
     "text": [
      "logs\r\n",
      "logsupervisor\r\n",
      "random_00001_why_use_list_for_shapes.ipynb\r\n",
      "random_00002_constants_vs_variables.ipynb\r\n",
      "random_00003_scoping_name_scope_variable_scope.ipynb\r\n",
      "random_00004_control_dependencies.ipynb\r\n",
      "random_00005_variable_scoping.ipynb\r\n",
      "random_00006_queues_queuerunners_coordinators.ipynb\r\n",
      "random_00007_name_scope_variable_scope_and_variable_sharing.ipynb\r\n",
      "random_00008_supervisor_manager.ipynb\r\n",
      "README.md\r\n",
      "slides_01_Overview_part1.ipynb\r\n",
      "slides_01_Overview_part2.ipynb\r\n",
      "slides_02_graph_def.ipynb\r\n",
      "slides_02_part_1_constants.ipynb\r\n",
      "slides_02_part_2_constants.ipynb\r\n",
      "slides_02_part_3_constants_ranges_random.ipynb\r\n",
      "slides_02_part_4_variables.ipynb\r\n",
      "slides_02_part_5_assign.ipynb\r\n",
      "slides_02_part_6_initializing_variables_with_another_variable_init_value.ipynb\r\n",
      "slides_02_part_7_interactive_session.ipynb\r\n",
      "slides_02_part_8_feeders.ipynb\r\n",
      "tensorboard_run.ipynb\r\n",
      "Untitled.ipynb\r\n",
      "variable_sharing.png\r\n"
     ]
    }
   ],
   "source": [
    "!ls"
   ]
  },
  {
   "cell_type": "code",
   "execution_count": null,
   "metadata": {},
   "outputs": [
    {
     "name": "stdout",
     "output_type": "stream",
     "text": [
      "usage: tensorboard [-h] [--logdir LOGDIR] [--host HOST] [--port PORT]\r\n",
      "                   [--purge_orphaned_data [PURGE_ORPHANED_DATA]]\r\n",
      "                   [--nopurge_orphaned_data]\r\n",
      "                   [--reload_interval RELOAD_INTERVAL] [--inspect [INSPECT]]\r\n",
      "                   [--noinspect] [--tag TAG] [--event_file EVENT_FILE]\r\n",
      "\r\n",
      "optional arguments:\r\n",
      "  -h, --help            show this help message and exit\r\n",
      "  --logdir LOGDIR       logdir specifies the directory where TensorBoard will\r\n",
      "                        look to find TensorFlow event files that it can\r\n",
      "                        display. TensorBoard will recursively walk the\r\n",
      "                        directory structure rooted at logdir, looking for\r\n",
      "                        .*tfevents.* files. You may also pass a comma\r\n",
      "                        separated list of log directories, and TensorBoard\r\n",
      "                        will watch each directory. You can also assign names\r\n",
      "                        to individual log directories by putting a colon\r\n",
      "                        between the name and the path, as in tensorboard\r\n",
      "                        --logdir=name1:/path/to/logs/1,name2:/path/to/logs/2\r\n",
      "  --host HOST           What host to listen to. Defaults to serving on\r\n",
      "                        0.0.0.0, set to 127.0.0.1 (localhost) todisable remote\r\n",
      "                        access (also quiets security warnings).\r\n",
      "  --port PORT           What port to serve TensorBoard on.\r\n",
      "  --purge_orphaned_data [PURGE_ORPHANED_DATA]\r\n",
      "                        Whether to purge data that may have been orphaned due\r\n",
      "                        to TensorBoard restarts. Disabling purge_orphaned_data\r\n",
      "                        can be used to debug data disappearance.\r\n",
      "  --nopurge_orphaned_data\r\n",
      "  --reload_interval RELOAD_INTERVAL\r\n",
      "                        How often the backend should load more data.\r\n",
      "  --inspect [INSPECT]   Use this flag to print out a digest of your event\r\n",
      "                        files to the command line, when no data is shown on\r\n",
      "                        TensorBoard or the data shown looks weird. Example\r\n",
      "                        usages: tensorboard --inspect\r\n",
      "                        --event_file=myevents.out tensorboard --inspect\r\n",
      "                        --event_file=myevents.out --tag=loss tensorboard\r\n",
      "                        --inspect --logdir=mylogdir tensorboard --inspect\r\n",
      "                        --logdir=mylogdir --tag=loss See\r\n",
      "                        tensorflow/python/summary/event_file_inspector.py for\r\n",
      "                        more info and detailed usage.\r\n",
      "  --noinspect\r\n",
      "  --tag TAG             The particular tag to query for. Only used if\r\n",
      "                        --inspect is present\r\n",
      "  --event_file EVENT_FILE\r\n",
      "                        The particular event file to query for. Only used if\r\n",
      "                        --inspect is present and --logdir is not specified.\r\n"
     ]
    }
   ],
   "source": [
    "!tensorboard --help"
   ]
  },
  {
   "cell_type": "markdown",
   "metadata": {},
   "source": [
    "**Start tensorboard** with remote access open"
   ]
  },
  {
   "cell_type": "code",
   "execution_count": null,
   "metadata": {
    "scrolled": true
   },
   "outputs": [
    {
     "name": "stdout",
     "output_type": "stream",
     "text": [
      "Starting TensorBoard b'47' at http://0.0.0.0:9292\n",
      "(Press CTRL+C to quit)\n",
      "WARNING:tensorflow:Found more than one graph event per run, or there was a metagraph containing a graph_def, as well as one or more graph events.  Overwriting the graph with the newest event.\n",
      "WARNING:tensorflow:Found more than one metagraph event per run. Overwriting the metagraph with the newest event.\n",
      "WARNING:tensorflow:Found more than one graph event per run, or there was a metagraph containing a graph_def, as well as one or more graph events.  Overwriting the graph with the newest event.\n",
      "WARNING:tensorflow:Found more than one graph event per run, or there was a metagraph containing a graph_def, as well as one or more graph events.  Overwriting the graph with the newest event.\n",
      "WARNING:tensorflow:Found more than one metagraph event per run. Overwriting the metagraph with the newest event.\n",
      "WARNING:tensorflow:Found more than one graph event per run, or there was a metagraph containing a graph_def, as well as one or more graph events.  Overwriting the graph with the newest event.\n",
      "WARNING:tensorflow:Found more than one metagraph event per run. Overwriting the metagraph with the newest event.\n",
      "WARNING:tensorflow:Found more than one graph event per run, or there was a metagraph containing a graph_def, as well as one or more graph events.  Overwriting the graph with the newest event.\n",
      "WARNING:tensorflow:Found more than one metagraph event per run. Overwriting the metagraph with the newest event.\n",
      "WARNING:tensorflow:Found more than one graph event per run, or there was a metagraph containing a graph_def, as well as one or more graph events.  Overwriting the graph with the newest event.\n",
      "WARNING:tensorflow:Found more than one metagraph event per run. Overwriting the metagraph with the newest event.\n",
      "WARNING:tensorflow:path ../external/data/plugin/text/runs not found, sending 404\n",
      "WARNING:tensorflow:path ../external/data/plugin/text/runs not found, sending 404\n",
      "WARNING:tensorflow:path ../external/data/plugin/text/runs not found, sending 404\n",
      "WARNING:tensorflow:path ../external/data/plugin/text/runs not found, sending 404\n"
     ]
    }
   ],
   "source": [
    "!tensorboard --logdir logsupervisor --host 0.0.0.0 --port 9292"
   ]
  }
 ],
 "metadata": {
  "kernelspec": {
   "display_name": "Python 3",
   "language": "python",
   "name": "python3"
  },
  "language_info": {
   "codemirror_mode": {
    "name": "ipython",
    "version": 3
   },
   "file_extension": ".py",
   "mimetype": "text/x-python",
   "name": "python",
   "nbconvert_exporter": "python",
   "pygments_lexer": "ipython3",
   "version": "3.6.1"
  }
 },
 "nbformat": 4,
 "nbformat_minor": 2
}
