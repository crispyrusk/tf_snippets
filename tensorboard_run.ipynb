{
 "cells": [
  {
   "cell_type": "code",
   "execution_count": 1,
   "metadata": {
    "collapsed": false,
    "deletable": true,
    "editable": true
   },
   "outputs": [
    {
     "name": "stdout",
     "output_type": "stream",
     "text": [
      "/home/skyrus/work/sandbox/tf_stanfordcourse_cs20si\r\n"
     ]
    }
   ],
   "source": [
    "!pwd"
   ]
  },
  {
   "cell_type": "code",
   "execution_count": 2,
   "metadata": {
    "collapsed": false
   },
   "outputs": [
    {
     "name": "stdout",
     "output_type": "stream",
     "text": [
      "I tensorflow/stream_executor/dso_loader.cc:135] successfully opened CUDA library libcublas.so.8.0 locally\n",
      "I tensorflow/stream_executor/dso_loader.cc:135] successfully opened CUDA library libcudnn.so.5 locally\n",
      "I tensorflow/stream_executor/dso_loader.cc:135] successfully opened CUDA library libcufft.so.8.0 locally\n",
      "I tensorflow/stream_executor/dso_loader.cc:135] successfully opened CUDA library libcuda.so.1 locally\n",
      "I tensorflow/stream_executor/dso_loader.cc:135] successfully opened CUDA library libcurand.so.8.0 locally\n",
      "usage: tensorboard [-h] [--logdir LOGDIR] [--debug [DEBUG]] [--nodebug]\n",
      "                   [--host HOST] [--inspect [INSPECT]] [--noinspect]\n",
      "                   [--tag TAG] [--event_file EVENT_FILE] [--port PORT]\n",
      "                   [--purge_orphaned_data [PURGE_ORPHANED_DATA]]\n",
      "                   [--nopurge_orphaned_data]\n",
      "                   [--reload_interval RELOAD_INTERVAL]\n",
      "\n",
      "optional arguments:\n",
      "  -h, --help            show this help message and exit\n",
      "  --logdir LOGDIR       logdir specifies the directory where TensorBoard will\n",
      "                        look to find TensorFlow event files that it can\n",
      "                        display. TensorBoard will recursively walk the\n",
      "                        directory structure rooted at logdir, looking for\n",
      "                        .*tfevents.* files. You may also pass a comma\n",
      "                        separated list of log directories, and TensorBoard\n",
      "                        will watch each directory. You can also assign names\n",
      "                        to individual log directories by putting a colon\n",
      "                        between the name and the path, as in tensorboard\n",
      "                        --logdir=name1:/path/to/logs/1,name2:/path/to/logs/2\n",
      "  --debug [DEBUG]       Whether to run the app in debug mode. This increases\n",
      "                        log verbosity to DEBUG.\n",
      "  --nodebug\n",
      "  --host HOST           What host to listen to. Defaults to serving on\n",
      "                        0.0.0.0, set to 127.0.0.1 (localhost) todisable remote\n",
      "                        access (also quiets security warnings).\n",
      "  --inspect [INSPECT]   Use this flag to print out a digest of your event\n",
      "                        files to the command line, when no data is shown on\n",
      "                        TensorBoard or the data shown looks weird. Example\n",
      "                        usages: tensorboard --inspect\n",
      "                        --event_file=myevents.out tensorboard --inspect\n",
      "                        --event_file=myevents.out --tag=loss tensorboard\n",
      "                        --inspect --logdir=mylogdir tensorboard --inspect\n",
      "                        --logdir=mylogdir --tag=loss See\n",
      "                        tensorflow/python/summary/event_file_inspector.py for\n",
      "                        more info and detailed usage.\n",
      "  --noinspect\n",
      "  --tag TAG             The particular tag to query for. Only used if\n",
      "                        --inspect is present\n",
      "  --event_file EVENT_FILE\n",
      "                        The particular event file to query for. Only used if\n",
      "                        --inspect is present and --logdir is not specified.\n",
      "  --port PORT           What port to serve TensorBoard on.\n",
      "  --purge_orphaned_data [PURGE_ORPHANED_DATA]\n",
      "                        Whether to purge data that may have been orphaned due\n",
      "                        to TensorBoard restarts. Disabling purge_orphaned_data\n",
      "                        can be used to debug data disappearance.\n",
      "  --nopurge_orphaned_data\n",
      "  --reload_interval RELOAD_INTERVAL\n",
      "                        How often the backend should load more data.\n"
     ]
    }
   ],
   "source": [
    "!tensorboard --help"
   ]
  },
  {
   "cell_type": "code",
   "execution_count": null,
   "metadata": {
    "collapsed": false,
    "deletable": true,
    "editable": true,
    "scrolled": true
   },
   "outputs": [
    {
     "name": "stdout",
     "output_type": "stream",
     "text": [
      "I tensorflow/stream_executor/dso_loader.cc:135] successfully opened CUDA library libcublas.so.8.0 locally\n",
      "I tensorflow/stream_executor/dso_loader.cc:135] successfully opened CUDA library libcudnn.so.5 locally\n",
      "I tensorflow/stream_executor/dso_loader.cc:135] successfully opened CUDA library libcufft.so.8.0 locally\n",
      "I tensorflow/stream_executor/dso_loader.cc:135] successfully opened CUDA library libcuda.so.1 locally\n",
      "I tensorflow/stream_executor/dso_loader.cc:135] successfully opened CUDA library libcurand.so.8.0 locally\n",
      "Starting TensorBoard b'41' on port 9292\n",
      "(You can navigate to http://127.0.1.1:9292)\n",
      "WARNING:tensorflow:Found more than one graph event per run, or there was a metagraph containing a graph_def, as well as one or more graph events.  Overwriting the graph with the newest event.\n",
      "WARNING:tensorflow:Found more than one metagraph event per run. Overwriting the metagraph with the newest event.\n",
      "WARNING:tensorflow:Found more than one graph event per run, or there was a metagraph containing a graph_def, as well as one or more graph events.  Overwriting the graph with the newest event.\n",
      "WARNING:tensorflow:Found more than one metagraph event per run. Overwriting the metagraph with the newest event.\n",
      "WARNING:tensorflow:Found more than one graph event per run, or there was a metagraph containing a graph_def, as well as one or more graph events.  Overwriting the graph with the newest event.\n",
      "WARNING:tensorflow:Found more than one metagraph event per run. Overwriting the metagraph with the newest event.\n",
      "WARNING:tensorflow:Found more than one graph event per run, or there was a metagraph containing a graph_def, as well as one or more graph events.  Overwriting the graph with the newest event.\n",
      "WARNING:tensorflow:Found more than one graph event per run, or there was a metagraph containing a graph_def, as well as one or more graph events.  Overwriting the graph with the newest event.\n",
      "WARNING:tensorflow:Found more than one metagraph event per run. Overwriting the metagraph with the newest event.\n",
      "WARNING:tensorflow:Found more than one graph event per run, or there was a metagraph containing a graph_def, as well as one or more graph events.  Overwriting the graph with the newest event.\n",
      "WARNING:tensorflow:Found more than one metagraph event per run. Overwriting the metagraph with the newest event.\n",
      "WARNING:tensorflow:Found more than one graph event per run, or there was a metagraph containing a graph_def, as well as one or more graph events.  Overwriting the graph with the newest event.\n",
      "WARNING:tensorflow:Found more than one metagraph event per run. Overwriting the metagraph with the newest event.\n",
      "WARNING:tensorflow:Found more than one graph event per run, or there was a metagraph containing a graph_def, as well as one or more graph events.  Overwriting the graph with the newest event.\n",
      "WARNING:tensorflow:Found more than one metagraph event per run. Overwriting the metagraph with the newest event.\n",
      "WARNING:tensorflow:Found more than one graph event per run, or there was a metagraph containing a graph_def, as well as one or more graph events.  Overwriting the graph with the newest event.\n",
      "WARNING:tensorflow:Found more than one metagraph event per run. Overwriting the metagraph with the newest event.\n",
      "WARNING:tensorflow:Found more than one graph event per run, or there was a metagraph containing a graph_def, as well as one or more graph events.  Overwriting the graph with the newest event.\n",
      "WARNING:tensorflow:Found more than one metagraph event per run. Overwriting the metagraph with the newest event.\n",
      "WARNING:tensorflow:Found more than one graph event per run, or there was a metagraph containing a graph_def, as well as one or more graph events.  Overwriting the graph with the newest event.\n",
      "WARNING:tensorflow:Found more than one metagraph event per run. Overwriting the metagraph with the newest event.\n",
      "WARNING:tensorflow:Found more than one graph event per run, or there was a metagraph containing a graph_def, as well as one or more graph events.  Overwriting the graph with the newest event.\n",
      "WARNING:tensorflow:Found more than one metagraph event per run. Overwriting the metagraph with the newest event.\n"
     ]
    }
   ],
   "source": [
    "!tensorboard --logdir logs --host 0.0.0.0 --port 9292"
   ]
  }
 ],
 "metadata": {
  "kernelspec": {
   "display_name": "Python 3",
   "language": "python",
   "name": "python3"
  },
  "language_info": {
   "codemirror_mode": {
    "name": "ipython",
    "version": 3
   },
   "file_extension": ".py",
   "mimetype": "text/x-python",
   "name": "python",
   "nbconvert_exporter": "python",
   "pygments_lexer": "ipython3",
   "version": "3.6.0"
  }
 },
 "nbformat": 4,
 "nbformat_minor": 2
}
